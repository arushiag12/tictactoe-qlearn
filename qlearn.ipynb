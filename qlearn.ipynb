{
 "cells": [
  {
   "cell_type": "code",
   "execution_count": 53,
   "metadata": {},
   "outputs": [],
   "source": [
    "import matplotlib.pyplot as plt\n",
    "from board import Board\n",
    "from player import Player\n",
    "from game import Game\n",
    "from agents import ManualAgent, QLearnAgent\n"
   ]
  },
  {
   "cell_type": "code",
   "execution_count": 72,
   "metadata": {},
   "outputs": [],
   "source": [
    "RLplayer = QLearnAgent('O')"
   ]
  },
  {
   "cell_type": "code",
   "execution_count": null,
   "metadata": {},
   "outputs": [],
   "source": [
    "iters = 5000000\n",
    "initial_eps = 1.0\n",
    "min_eps = 0.2\n",
    "eps_decay = 0.000005\n",
    "alpha = 0.3\n",
    "gamma = 0.9\n",
    "\n",
    "RLplayer.train(iters=iters, initial_eps=initial_eps, min_eps=min_eps, eps_decay=eps_decay, alpha=alpha, gamma=gamma)"
   ]
  },
  {
   "cell_type": "code",
   "execution_count": null,
   "metadata": {},
   "outputs": [],
   "source": [
    "RLplayer.save('qlearn_agent.pkl')"
   ]
  }
 ],
 "metadata": {
  "kernelspec": {
   "display_name": ".venv",
   "language": "python",
   "name": "python3"
  },
  "language_info": {
   "codemirror_mode": {
    "name": "ipython",
    "version": 3
   },
   "file_extension": ".py",
   "mimetype": "text/x-python",
   "name": "python",
   "nbconvert_exporter": "python",
   "pygments_lexer": "ipython3",
   "version": "3.12.8"
  }
 },
 "nbformat": 4,
 "nbformat_minor": 2
}
